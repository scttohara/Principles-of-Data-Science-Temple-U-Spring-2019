{
 "cells": [
  {
   "cell_type": "markdown",
   "metadata": {},
   "source": [
    "# Lab 4\n",
    "## More Data Scraping and EDA\n",
    "\n",
    "In this lab, you will improve your skills in scraping data from web pages, organizing the data in a desired format, and performing EDA.\n",
    "\n",
    "For this lab, we are reusing code from Harvard's CS109: https://github.com/cs109/2015/blob/master/Lectures/02-DataScrapingQuizzes.ipynb\n",
    "\n",
    "## Lab3.A. Run code for scraping Indeed.com data\n",
    "\n",
    "You firs task will be to exectute the following blocks of code and try to understand what is happening after each line of the code. You will have to answer several questions to show your understanding.\n",
    "\n",
    "Let us start with importing of the relevant packages."
   ]
  },
  {
   "cell_type": "code",
   "execution_count": 1,
   "metadata": {},
   "outputs": [],
   "source": [
    "import requests\n",
    "import bs4 #this is beautiful soup\n",
    "\n",
    "import time\n",
    "from pandas import Series\n",
    "import pandas as pd\n",
    "from pandas import DataFrame\n",
    "import numpy as np\n",
    "import re\n",
    "\n",
    "import matplotlib\n",
    "import matplotlib.pyplot as plt\n",
    "%matplotlib inline"
   ]
  },
  {
   "cell_type": "markdown",
   "metadata": {},
   "source": [
    "As you see, you imported the package called `re`, which supports regular expression operations. You have already used the other packages. \n",
    "\n",
    "The following block will access and load the contents of an Indeed.com web page. It will probably give you a warning -- please ignore it."
   ]
  },
  {
   "cell_type": "code",
   "execution_count": 2,
   "metadata": {},
   "outputs": [],
   "source": [
    "# Fixed url for job postings containing data scientist\n",
    "url = 'http://www.indeed.com/jobs?q=data+scientist&l='\n",
    "# read the website\n",
    "source = requests.get(url).text\n",
    "# parse html code\n",
    "bs_tree = bs4.BeautifulSoup(source)"
   ]
  },
  {
   "cell_type": "markdown",
   "metadata": {},
   "source": [
    "**Question 1**:\n",
    " * What kind of page did you land on? Explain in a few sentences what is the content of this page.\n",
    " * What does the \"?\" and \"&\" in the url mean?\n",
    " * Explore the content of the web page. If you are using Firefox, open the page Inspector to understand how the underlying html code relates to the displayed content.\n",
    " * What pieces of the html code are responsible for showing the job title, company name, and job location?\n",
    " \n",
    "The following block of code will figure out how many job ads are there for jobs that contain \"data scientist' in the job title."
   ]
  },
  {
   "cell_type": "markdown",
   "metadata": {},
   "source": [
    "<html>\n",
    "    <h3>\n",
    "        What kind of page did you land on?   \n",
    "    </h3>\n",
    "    <p>\n",
    "   <i>\n",
    "        <strong>\n",
    "            I landed on an Indeed job-search page with \"data scientist\" in the \"What (job title, keywords, or company)\" user input box in the search area at the top of the page. No location was specified so the job-search results, displayed in the center of the page, where job openings from all over the United States. On the left side of the page were different categories to sort/filter the job-search results. Overall this page displayed information on open data science jobs in the United States, while providing some information on the current salary market for data scientist on the right side.\n",
    "        </strong>\n",
    "    </i>\n",
    "    </p>\n",
    "</html> "
   ]
  },
  {
   "cell_type": "markdown",
   "metadata": {},
   "source": [
    "<html>\n",
    "    <h3>\n",
    "        What does the \"?\" and \"&\" in the url mean?   \n",
    "    </h3>\n",
    "    <p>\n",
    "       <i>\n",
    "        <strong>\n",
    "                \"?\" in the URL acts as a separator, it indicates the end of the URL resource path and start of query parameters. \n",
    "                \"&\" in the URL separates the query string field-value pairs.\n",
    "        </strong>\n",
    "       </i>\n",
    "    </p>\n",
    "</html>"
   ]
  },
  {
   "cell_type": "markdown",
   "metadata": {},
   "source": [
    "<html>\n",
    "     <h3>\n",
    "        What pieces of the HTML are responsible for showing the job title, company name, and job location?   \n",
    "    </h3>\n",
    "    <p>\n",
    "      <i>\n",
    "        <strong>\n",
    "            The HTML code below was responsible for the first job title, company name, and job location result on my job-search page:\n",
    "             <p>\n",
    "                 <i>\n",
    "                    <strong>\n",
    "                Specifically this HTML below was responsible for the job title:\n",
    "                     </strong>\n",
    "                 </i>\n",
    "            </p>\n",
    "          </strong>\n",
    "        </i>\n",
    "    </p>\n",
    "          \n",
    "               <a target=​\"_blank\" id=​\"sja1\" data-tn-element=​\"jobTitle\" class=​\"jobtitle turnstileLink\" href=​\"/​pagead/​clk?​mo=r&​ad=-6NYlbfkN0Do5IJpsXwEG6AHc2aCg9wxC4VDeKn3sAvOnRJ-W7avdIgQv2Y-n1dX5QotCd4QCXn43OLFDrscqoale7OyjFOsotpXvsNjP_0J2JUp3HPUwEYrUVAM8wN-9Q-u4TtfJ04H09AByTC4SJOT2T3W_mIhQIeYYJ5I4mUYCBbyzhW3sRcO_zvlQegnD5meaPiGz0JKzOBYLQmfhjcQKpG4R9eDnZjamHTFcOStkDiTbqkGQa1qelhCIPBRYKJFaZMSAwqZLVmg-tvCfmLFHsA462lwAG9wsOLZwPUmaaENHQnROYrVOwG53OuwvAYsQSqzAOc4RdiL0Y-DCHM8J0E3AF-GxAVyn5Gxo3Dx178UDFZxB2NDJrqTfdKPWbBE-7888a7eoK8EaBMlSYicup8wYq5gp--BWUZ6EFfHOu3LJn2yn8JojmEQ_ekUKpUwct00fizGkwEt1_P7atxjvG0nCKc2vTuJOKy0nuhxfd538GIl2ZoHGpuQ90zyvhQifKHDLroOxGEb_YrapsrWfzMMMXiBAs5XPlaFgoSNdDLBE7bpYrFWH5nP_nftSRjaOAgXOBxm7rUX6RTIf_DeiqrgnVAFIuR3t14bjWju8ywbFd02rTiouVtnb6hcfEi3-h70LZlFvPPiL9XyC2IosOrpF08rKqcx6mikP12SGcKfl0zVCUnR3V7_uPsp3SGs4QYlarb0Vu4VZqHGalfnKzvfcVwzZbrAnohEi0FZfAq9If1xVDDKihqP7yynBmXE3dFGAL3IZgTNTGTWuzmo7HpgIDFN6qGqI9_TbOiTzJZ4NUKfA4qbqHnkgt1HfkTWC6dNc0CCRYOl0rvVrR6Vse0ghYiq7AkK7cZlrKAV7hP5XvP0FEDBV5dZJxWOqjxjitPcE0Fp2oLoDGLi8TkUttyMB4uRIEcEc1q1pe6Qg8xV9fyn3Q==&​vjs=3&​p=1&​sk=&​fvj=0\" title=​\"Data Scientist\" rel=​\"noopener nofollow\" onmousedown=​\"sjomd('sja1')​;​ clk('sja1')​;​\" onclick=​\"setRefineByCookie([]​)​;​ sjoc('sja1',0)​;​ convCtr('SJ')​\">​…​</a>​\n",
    "              \n",
    " <p>\n",
    "  <i>\n",
    "    <strong>\n",
    "      The HTML below was responsible for the company name:\n",
    "    </strong>\n",
    "  </i>\n",
    " </p>\n",
    " \n",
    "    <div>​\n",
    "     <span class=​\"company\">​\n",
    "      <a data-tn-element=​\"companyName\" class=​\"turnstileLink\" target=​\"_blank\" href=​\"/​cmp/​Onemain\" onmousedown=​\"this.href = appendParamsOnce(this.href, 'from=SERP&​campaignid=&​fromjk=b6d47be12a30e20a&​jcid=682e3d251b8703b7')​\" rel=​\"noopener\">​\n",
    "        OneMain Financial​</a>​\n",
    "     </span>​\n",
    "    </div>​\n",
    " <p>\n",
    "  <i>\n",
    "    <strong>\n",
    "      The HTML below was responsible for the company location:\n",
    "    </strong>\n",
    "  </i>\n",
    " </p>\n",
    "    \n",
    "    <div class=​\"location\">​Wilmington, DE 19805​</div>​\n",
    "    </div>​    \n",
    "        \n",
    "   </strong>\n",
    "  </i>\n",
    " </p>\n",
    "</html>"
   ]
  },
  {
   "cell_type": "code",
   "execution_count": 3,
   "metadata": {},
   "outputs": [
    {
     "name": "stdout",
     "output_type": "stream",
     "text": [
      "Search yielded 33,527 hits.\n",
      "33527\n"
     ]
    }
   ],
   "source": [
    "# see how many job postings we found\n",
    "job_count_string = bs_tree.find(id = 'searchCount').contents[0]\n",
    "job_count_string = job_count_string.split()[-2]\n",
    "print(\"Search yielded %s hits.\" % (job_count_string))\n",
    "\n",
    "# not that job_count so far is still a string, \n",
    "# not an integer, and the , separator prevents \n",
    "# us from just casting it to int\n",
    "\n",
    "job_count_digits = [int(d) for d in job_count_string if d.isdigit()]\n",
    "job_count = np.sum([digit*(10**exponent) for digit, exponent in \n",
    "                    zip(job_count_digits[::-1], range(len(job_count_digits)))])\n",
    "\n",
    "print(job_count)"
   ]
  },
  {
   "cell_type": "markdown",
   "metadata": {},
   "source": [
    "# **Question 2**:\n",
    "* What does the \"find(id = 'searchCount')\" in the first line mean?\n",
    "* What does the second line do?\n",
    "\n",
    "**Question 3**: \n",
    "* Write a piece of code that finds the Salary Estimate object on the page\n",
    "\n",
    "The following piece of code allows you to find the links to all the job ads on the page."
   ]
  },
  {
   "cell_type": "markdown",
   "metadata": {},
   "source": [
    "<html>\n",
    "     <h3>\n",
    "       Question 2: What does the \"find(id = 'searchCount')\" in the first line mean?\n",
    "    </h3>\n",
    "    <p>\n",
    "      <i>\n",
    "        <strong>\n",
    "            This line finds the id = 'searchCount' in the html code saved in the variable bs_tree. Id's are unique in websites so there is only one id by that name. Once the id is found the text inside the id's div is returned, for the given instance that means \"        Page 1 of 33,576 jobs\" is stored in job_count_string.\n",
    "          </strong>\n",
    "        </i>\n",
    "    </p>     "
   ]
  },
  {
   "cell_type": "markdown",
   "metadata": {},
   "source": [
    "<html>\n",
    "     <h3>\n",
    "        Question 2: What does the second line do?\n",
    "    </h3>\n",
    "    <p>\n",
    "      <i>\n",
    "        <strong>\n",
    "            The second line splits the job_count_string by the spaces, so \"        Page 1 of 33,576 jobs\" becomes [u'Page', u'1', u'of', u'33,576', u'jobs']. Finally, [-2] steps backward two positions from the end of job_count_string to print \"33,576\". \n",
    "          </strong>\n",
    "        </i>\n",
    "    </p>"
   ]
  },
  {
   "cell_type": "markdown",
   "metadata": {},
   "source": [
    "<html>\n",
    "     <h3>\n",
    "        Question 3: (code below)\n",
    "    </h3>"
   ]
  },
  {
   "cell_type": "code",
   "execution_count": 4,
   "metadata": {},
   "outputs": [
    {
     "name": "stdout",
     "output_type": "stream",
     "text": [
      "<div class=\"rbSection rbOpen\" id=\"rb_Salary Estimate\">\n",
      "<div class=\"rbHeader\">\n",
      "<span aria-level=\"3\" class=\"ws_bold\" role=\"heading\">\n",
      "\t\t\t\tSalary Estimate</span>\n",
      "</div>\n",
      "<div class=\"rbsrbo\" id=\"SALARY_rbo\">\n",
      "<ul class=\"rbList\">\n",
      "<li onmousedown=\"rbptk('rb', 'salest', '1');\">\n",
      "<a href=\"/q-data-scientist-$55,000-jobs.html\" rel=\"nofollow\" title=\"$55,000 (26410)\">$55,000</a> (26410)</li>\n",
      "<li onmousedown=\"rbptk('rb', 'salest', '2');\">\n",
      "<a href=\"/q-data-scientist-$75,000-jobs.html\" rel=\"nofollow\" title=\"$75,000 (21489)\">$75,000</a> (21489)</li>\n",
      "<li onmousedown=\"rbptk('rb', 'salest', '3');\">\n",
      "<a href=\"/q-data-scientist-$95,000-jobs.html\" rel=\"nofollow\" title=\"$95,000 (15875)\">$95,000</a> (15875)</li>\n",
      "<li onmousedown=\"rbptk('rb', 'salest', '4');\">\n",
      "<a href=\"/q-data-scientist-$110,000-jobs.html\" rel=\"nofollow\" title=\"$110,000 (11312)\">$110,000</a> (11312)</li>\n",
      "<li onmousedown=\"rbptk('rb', 'salest', '5');\">\n",
      "<a href=\"/q-data-scientist-$130,000-jobs.html\" rel=\"nofollow\" title=\"$130,000 (5408)\">$130,000</a> (5408)</li>\n",
      "</ul>\n",
      "</div>\n",
      "</div>\n"
     ]
    }
   ],
   "source": [
    "# see how many job postings we found\n",
    "Salary_Estimate_string = bs_tree.find(id = 'rb_Salary Estimate')\n",
    "print Salary_Estimate_string"
   ]
  },
  {
   "cell_type": "code",
   "execution_count": 5,
   "metadata": {},
   "outputs": [
    {
     "name": "stdout",
     "output_type": "stream",
     "text": [
      "('We found a lot of jobs: ', 16)\n"
     ]
    }
   ],
   "source": [
    "# The website is only listing 10 results per page, \n",
    "# so we need to scrape them page after page\n",
    "num_pages = int(np.ceil(job_count/10.0))\n",
    "\n",
    "base_url = 'http://www.indeed.com'\n",
    "job_links = []\n",
    "for i in range(1): #do range(num_pages) if you want them all\n",
    "    url = 'http://www.indeed.com/jobs?q=data+scientist&start=' + str(i*10)\n",
    "    html_page = requests.get(url).text\n",
    "    bs_tree = bs4.BeautifulSoup(html_page)\n",
    "    job_postings = bs_tree.findAll('div', attrs={'class':'jobsearch-SerpJobCard'})\n",
    "    job_ids = [jp.get('data-jk') for jp in job_postings]\n",
    "    # go after each link   \n",
    "    for id in job_ids:\n",
    "        job_links.append(base_url + '/viewjob?jk=' + id)\n",
    "    time.sleep(1)\n",
    "\n",
    "print(\"We found a lot of jobs: \", len(job_links))"
   ]
  },
  {
   "cell_type": "code",
   "execution_count": 6,
   "metadata": {},
   "outputs": [
    {
     "data": {
      "text/plain": [
       "['http://www.indeed.com/viewjob?jk=d094066d7847bcd4',\n",
       " 'http://www.indeed.com/viewjob?jk=147327f827ef98a1',\n",
       " 'http://www.indeed.com/viewjob?jk=dffbf83b18a43159',\n",
       " 'http://www.indeed.com/viewjob?jk=94754949a0468a52',\n",
       " 'http://www.indeed.com/viewjob?jk=c29ec10470153175',\n",
       " 'http://www.indeed.com/viewjob?jk=1486f8bbb9d68d93',\n",
       " 'http://www.indeed.com/viewjob?jk=738fe6188daacd19',\n",
       " 'http://www.indeed.com/viewjob?jk=851d784993c4eb81',\n",
       " 'http://www.indeed.com/viewjob?jk=b485521dd0cffb12',\n",
       " 'http://www.indeed.com/viewjob?jk=b6c6149172fdf5c6',\n",
       " 'http://www.indeed.com/viewjob?jk=08106ff509c9c18b',\n",
       " 'http://www.indeed.com/viewjob?jk=3732427d3a63339e',\n",
       " 'http://www.indeed.com/viewjob?jk=71ee734828db70f6',\n",
       " 'http://www.indeed.com/viewjob?jk=e8f2ab289cd31d0d',\n",
       " 'http://www.indeed.com/viewjob?jk=43f1727417779980',\n",
       " 'http://www.indeed.com/viewjob?jk=bd8c2d6cefcffeab']"
      ]
     },
     "execution_count": 6,
     "metadata": {},
     "output_type": "execute_result"
    }
   ],
   "source": [
    "job_links"
   ]
  },
  {
   "cell_type": "markdown",
   "metadata": {},
   "source": [
    "**Question 4**:\n",
    "* explain why is `url` (first line in the for loop) defined as it is. What page are you landing at when `i = 3`?\n",
    "\n",
    "* What does command `''bs_tree.findAll('div', attrs={'class':'jobsearch-SerpJobCard'})` do?\n",
    "* Explain the properties and content of `job_links`\n",
    "\n",
    "**Question 5**:\n",
    "* Reuse the code above to find links to the first 200 listed data science jobs\n",
    "\n",
    "The following piece of code accesses and grabs the content of all ads in the `job_links` and extracts all the human-readable text tokens. Then, it counts on how many pages are words `mapreduce`, `spark`, and `visualization` used. It might take a few seconds to execute."
   ]
  },
  {
   "cell_type": "markdown",
   "metadata": {},
   "source": [
    "<html>\n",
    "     <h3>\n",
    "        Question 4:   \n",
    "    </h3>\n",
    "    <p>\n",
    "      <i>\n",
    "        <strong>\n",
    "           explain why is url (first line in the for loop) defined as it is. What page are you landing at when i = 3?\n",
    "          </strong>\n",
    "             <p>\n",
    "                 <i>\n",
    "                - The url is defined this way becuase it is prepared to step through any given number of search result pages, so as i increases the url will be concatenated with a string to make sure we never scrape the same job listing twice. \n",
    "                     <br>\n",
    "                - page when i = 3: 'http://www.indeed.com/viewjob?jk=94754949a0468a52'>\n",
    "                 </i>\n",
    "            </p>\n",
    "        </i>\n",
    "    </p>      \n",
    " <p>\n",
    "  <i>\n",
    "    <strong>\n",
    "      What does command ''bs_tree.findAll('div', attrs={'class':'jobsearch-SerpJobCard'}) do?\n",
    "    </strong>\n",
    "  </i>\n",
    " </p>\n",
    "    <i>\n",
    "         The above command finds all the instances of div's that start with, 'div class=\"jobsearch-SerpJobCard'\n",
    "    </i>\n",
    " <p>\n",
    "  <i>\n",
    "    <strong>\n",
    "      Explain the properties and content of job_links:\n",
    "    </strong>\n",
    "  </i>\n",
    " </p>\n",
    "  <p>\n",
    "      <i>\n",
    "        job_links is a list of url's concatenated with '/viewjob?jk=' and the different id's we collected from 'bs_tree.findAll('div', attrs={'class':'jobsearch-SerpJobCard'})' to load a specific job page. This creates a list of the dedicated individual pages for each job posted on the indeed search results page we're scraping.\n",
    "      </i>\n",
    " </p>\n",
    "</html>\n"
   ]
  },
  {
   "cell_type": "markdown",
   "metadata": {},
   "source": [
    "<html>\n",
    "     <h3>\n",
    "        Question 5:   \n",
    "    </h3>\n",
    "</html>\n",
    "    "
   ]
  },
  {
   "cell_type": "code",
   "execution_count": 7,
   "metadata": {},
   "outputs": [
    {
     "name": "stdout",
     "output_type": "stream",
     "text": [
      "('We found a lot of jobs: ', 207)\n"
     ]
    }
   ],
   "source": [
    "# The website is only listing 10 results per page, \n",
    "# so we need to scrape them page after page\n",
    "num_pages = int(np.ceil(job_count/10.0))\n",
    "\n",
    "base_url = 'http://www.indeed.com'\n",
    "job_links = []\n",
    "for i in range(13): #do range(num_pages) if you want them all\n",
    "    url = 'http://www.indeed.com/jobs?q=data+scientist&start=' + str(i*10)\n",
    "    html_page = requests.get(url).text\n",
    "    bs_tree = bs4.BeautifulSoup(html_page)\n",
    "    job_postings = bs_tree.findAll('div', attrs={'class':'jobsearch-SerpJobCard'})\n",
    "    job_ids = [jp.get('data-jk') for jp in job_postings]\n",
    "    # go after each link   \n",
    "    for id in job_ids:\n",
    "        job_links.append(base_url + '/viewjob?jk=' + id)\n",
    "    time.sleep(1)\n",
    "\n",
    "print(\"We found a lot of jobs: \", len(job_links))"
   ]
  },
  {
   "cell_type": "code",
   "execution_count": 14,
   "metadata": {},
   "outputs": [
    {
     "name": "stdout",
     "output_type": "stream",
     "text": [
      "13\n",
      "{'visualization': 2, 'spark': 1, 'mapreduce': 0}\n",
      "8\n",
      "{'visualization': 4, 'spark': 2, 'mapreduce': 0}\n",
      "3\n",
      "{'visualization': 5, 'spark': 3, 'mapreduce': 1}\n",
      "{'visualization': 6, 'spark': 4, 'mapreduce': 1}\n"
     ]
    }
   ],
   "source": [
    "skill_set = {'mapreduce':0, 'spark':0, 'visualization':0}\n",
    "counter = 0\n",
    "for link in job_links:\n",
    "    counter +=1  \n",
    "    \n",
    "    try:\n",
    "        html_page = requests.get(link).text\n",
    "    except urllib2.HTTPError:\n",
    "        print(\"HTTPError:\")\n",
    "        continue\n",
    "    except urllib2.URLError:\n",
    "        print(\"URLError:\")\n",
    "        continue\n",
    "    except socket.error as error:\n",
    "        print(\"Connection closed\")\n",
    "        continue\n",
    "\n",
    "    html_text = re.sub(\"[^a-z.+3]\",\" \", html_page.lower()) # replace all but the listed characters\n",
    "        \n",
    "    for key in skill_set.keys():\n",
    "        if key in html_text:  \n",
    "            skill_set[key] +=1\n",
    "            \n",
    "    if counter % 5 == 0:\n",
    "        print(len(job_links) - counter)\n",
    "        print(skill_set)\n",
    "            \n",
    "print(skill_set)"
   ]
  },
  {
   "cell_type": "markdown",
   "metadata": {},
   "source": [
    "**Question 6**\n",
    "* What does the `re.sub()` do in the above code? To answer this, you will have to go to the documentation of the regular expression package (find it on web).\n",
    "* What is the meaning of `[^a-z.+3]`?\n",
    "* What is the content of `skill_set`?\n",
    "\n",
    "The following piece of code plots the counts of different skills in the processed ads."
   ]
  },
  {
   "cell_type": "markdown",
   "metadata": {},
   "source": [
    "<html>\n",
    "     <h3>\n",
    "        Question 6:   \n",
    "    </h3>\n",
    "    <p>\n",
    "      <i>\n",
    "        <strong>\n",
    "           re.sub() return the string obtained by replacing the leftmost non-overlapping occurrences of pattern in string by the replacement repl. If the pattern isn’t found, string is returned unchanged. repl can be a string or a function; if it is a string, any backslash escapes in it are processed. That is, \\n is converted to a single newline character, \\r is converted to a linefeed, and so forth. Unknown escapes such as \\j are left alone. Backreferences, such as \\6, are replaced with the substring matched by group 6 in the pattern.\n",
    "\n",
    "   The meaning of [^a-z.+3] means matche atleast three characters from a-z.\n",
    "\n",
    "   The content of skill_set is the key word that will be search through in the html text\n",
    "          </strong>\n",
    "             </p>\n",
    "           </html>      \n"
   ]
  },
  {
   "cell_type": "code",
   "execution_count": 15,
   "metadata": {},
   "outputs": [
    {
     "data": {
      "image/png": "[encoded data removed]",
      "text/plain": [
       "<Figure size 432x288 with 1 Axes>"
      ]
     },
     "metadata": {
      "needs_background": "light"
     },
     "output_type": "display_data"
    }
   ],
   "source": [
    "pseries = pd.Series(skill_set)\n",
    "pseries.sort_values(ascending=False)\n",
    "\n",
    "pseries.plot(kind = 'bar')\n",
    "## set the title to Score Comparison\n",
    "plt.title('Data Science Skills')\n",
    "## set the x label\n",
    "plt.xlabel('Skills')\n",
    "## set the y label\n",
    "plt.ylabel('Count')\n",
    "## show the plot\n",
    "plt.show()"
   ]
  },
  {
   "cell_type": "markdown",
   "metadata": {},
   "source": [
    "**Question 7**:\n",
    "- rerun the code to find the counts of the 3 data science skills on the first 200 job ads"
   ]
  },
  {
   "cell_type": "markdown",
   "metadata": {
    "collapsed": true
   },
   "source": [
    "## Lab 3.B: Data analysis of job skills\n",
    "In the first part of the lab, you created `skill_set` dictionary that counts occurences of 3 important data science skills. In this part of the lab we are asking you to create pandas `DataFrame` object as a table whose rows correspond to individual ads and columns correspond to important information about the ads and skills mentioned on those pages. Let us call the table `job_ads`. Process the first 1,000 data science ads, so your table should have 1,000 rows. For each ad, you will have to create the following columns:\n",
    "- job title\n",
    "- company name\n",
    "- job location\n",
    "- skill 1\n",
    "- skill 2\n",
    "- ...\n",
    "- skill 20\n",
    "\n",
    "Job title, company name, and job locations will be readable from the Indeed.com page. We are asking you to list 20 skills, instead of only 3 in the code above ('mapreduce', 'spark', 'visualization'). You will need to find another 17 words that are commonly used in data science job ads. To do it, please explore the content of at least 10 ads.\n",
    "\n",
    "Once you creat your `job_ads` table, please preform EDA of the table, in a similar way you did in Lab 2: provide code and a 2-page document that summarizes interesitng insights about the first 1,000 data science jobs.\n",
    "\n",
    "**Deliverables**:\n",
    "- the modified Lab 4 .ipynb file that contains all the answers to the questions\n",
    "- a 2-page documents presenting the results of your EDA of the `job_ads` data"
   ]
  },
  {
   "cell_type": "code",
   "execution_count": null,
   "metadata": {
    "collapsed": true
   },
   "outputs": [],
   "source": []
  }
 ],
 "metadata": {
  "anaconda-cloud": {},
  "kernelspec": {
   "display_name": "Python 2",
   "language": "python",
   "name": "python2"
  },
  "language_info": {
   "codemirror_mode": {
    "name": "ipython",
    "version": 2
   },
   "file_extension": ".py",
   "mimetype": "text/x-python",
   "name": "python",
   "nbconvert_exporter": "python",
   "pygments_lexer": "ipython2",
   "version": "2.7.15"
  }
 },
 "nbformat": 4,
 "nbformat_minor": 2
}
