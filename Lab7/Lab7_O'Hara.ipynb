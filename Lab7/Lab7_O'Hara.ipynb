{
 "cells": [
  {
   "cell_type": "markdown",
   "metadata": {},
   "source": [
    "# Lab 7: Supervised Learning - k-Nearest Neighbor (kNN) Algorithm \n",
    "\n",
    "In this lab, we will make first steps in doint supervised learning. in particular, we will learn about the k-Nearest Neighbor (kNN) algorithm. kNN uses a simple idea: \"you are what your neighbors are\". This idea work quite well in data science. In the first part of the lab, we will cover some background needed to understand the kNN algorithm. In the second part, you will be asked to apply your knowledge on another data set. \n",
    "\n",
    "## Lab 7.A: kNN Tutorial with Questions (50% of grade)\n",
    "\n",
    "As usual, let us start by importing the needed libraries. We will continue using the sklearn library, which implements many of the most popular data science algorithms. "
   ]
  },
  {
   "cell_type": "code",
   "execution_count": 2,
   "metadata": {},
   "outputs": [],
   "source": [
    "import numpy as np\n",
    "import matplotlib.pyplot as plt\n",
    "from matplotlib.colors import ListedColormap\n",
    "from sklearn import neighbors, datasets"
   ]
  },
  {
   "cell_type": "markdown",
   "metadata": {},
   "source": [
    "Let us load the Iris data set using a sklearn function `load_iris`."
   ]
  },
  {
   "cell_type": "code",
   "execution_count": 3,
   "metadata": {},
   "outputs": [],
   "source": [
    "iris = datasets.load_iris()"
   ]
  },
  {
   "cell_type": "markdown",
   "metadata": {},
   "source": [
    "As you can see from http://scikit-learn.org/stable/modules/generated/sklearn.datasets.load_iris.html, `iris` is an object with attributes `data` (a 150x4 matrix, where $i$-th row are 4 attributes of the $i$-th flower), `feature_names` (the names of the 4 attributes -- remember that in data science \"attribute\" and \"feature\" means the same thing), `target` (a vector of length 150, where $i$-th number is the type of the $i$-th flower -- in data science people often say \"label\" instead of \"target\"), `target_names` (these are strings explaining what each of the 3 types of flowers are), and `DESCR` (giving some information about the Iris data set). Let us list them all "
   ]
  },
  {
   "cell_type": "code",
   "execution_count": 87,
   "metadata": {},
   "outputs": [
    {
     "name": "stdout",
     "output_type": "stream",
     "text": [
      ".. _iris_dataset:\n",
      "\n",
      "Iris plants dataset\n",
      "--------------------\n",
      "\n",
      "**Data Set Characteristics:**\n",
      "\n",
      "    :Number of Instances: 150 (50 in each of three classes)\n",
      "    :Number of Attributes: 4 numeric, predictive attributes and the class\n",
      "    :Attribute Information:\n",
      "        - sepal length in cm\n",
      "        - sepal width in cm\n",
      "        - petal length in cm\n",
      "        - petal width in cm\n",
      "        - class:\n",
      "                - Iris-Setosa\n",
      "                - Iris-Versicolour\n",
      "                - Iris-Virginica\n",
      "                \n",
      "    :Summary Statistics:\n",
      "\n",
      "    ============== ==== ==== ======= ===== ====================\n",
      "                    Min  Max   Mean    SD   Class Correlation\n",
      "    ============== ==== ==== ======= ===== ====================\n",
      "    sepal length:   4.3  7.9   5.84   0.83    0.7826\n",
      "    sepal width:    2.0  4.4   3.05   0.43   -0.4194\n",
      "    petal length:   1.0  6.9   3.76   1.76    0.9490  (high!)\n",
      "    petal width:    0.1  2.5   1.20   0.76    0.9565  (high!)\n",
      "    ============== ==== ==== ======= ===== ====================\n",
      "\n",
      "    :Missing Attribute Values: None\n",
      "    :Class Distribution: 33.3% for each of 3 classes.\n",
      "    :Creator: R.A. Fisher\n",
      "    :Donor: Michael Marshall (MARSHALL%PLU@io.arc.nasa.gov)\n",
      "    :Date: July, 1988\n",
      "\n",
      "The famous Iris database, first used by Sir R.A. Fisher. The dataset is taken\n",
      "from Fisher's paper. Note that it's the same as in R, but not as in the UCI\n",
      "Machine Learning Repository, which has two wrong data points.\n",
      "\n",
      "This is perhaps the best known database to be found in the\n",
      "pattern recognition literature.  Fisher's paper is a classic in the field and\n",
      "is referenced frequently to this day.  (See Duda & Hart, for example.)  The\n",
      "data set contains 3 classes of 50 instances each, where each class refers to a\n",
      "type of iris plant.  One class is linearly separable from the other 2; the\n",
      "latter are NOT linearly separable from each other.\n",
      "\n",
      ".. topic:: References\n",
      "\n",
      "   - Fisher, R.A. \"The use of multiple measurements in taxonomic problems\"\n",
      "     Annual Eugenics, 7, Part II, 179-188 (1936); also in \"Contributions to\n",
      "     Mathematical Statistics\" (John Wiley, NY, 1950).\n",
      "   - Duda, R.O., & Hart, P.E. (1973) Pattern Classification and Scene Analysis.\n",
      "     (Q327.D83) John Wiley & Sons.  ISBN 0-471-22361-1.  See page 218.\n",
      "   - Dasarathy, B.V. (1980) \"Nosing Around the Neighborhood: A New System\n",
      "     Structure and Classification Rule for Recognition in Partially Exposed\n",
      "     Environments\".  IEEE Transactions on Pattern Analysis and Machine\n",
      "     Intelligence, Vol. PAMI-2, No. 1, 67-71.\n",
      "   - Gates, G.W. (1972) \"The Reduced Nearest Neighbor Rule\".  IEEE Transactions\n",
      "     on Information Theory, May 1972, 431-433.\n",
      "   - See also: 1988 MLC Proceedings, 54-64.  Cheeseman et al\"s AUTOCLASS II\n",
      "     conceptual clustering system finds 3 classes in the data.\n",
      "   - Many, many more ...\n",
      "[[5.1 3.5 1.4 0.2]\n",
      " [4.9 3.  1.4 0.2]\n",
      " [4.7 3.2 1.3 0.2]\n",
      " [4.6 3.1 1.5 0.2]\n",
      " [5.  3.6 1.4 0.2]\n",
      " [5.4 3.9 1.7 0.4]\n",
      " [4.6 3.4 1.4 0.3]\n",
      " [5.  3.4 1.5 0.2]\n",
      " [4.4 2.9 1.4 0.2]\n",
      " [4.9 3.1 1.5 0.1]\n",
      " [5.4 3.7 1.5 0.2]\n",
      " [4.8 3.4 1.6 0.2]\n",
      " [4.8 3.  1.4 0.1]\n",
      " [4.3 3.  1.1 0.1]\n",
      " [5.8 4.  1.2 0.2]\n",
      " [5.7 4.4 1.5 0.4]\n",
      " [5.4 3.9 1.3 0.4]\n",
      " [5.1 3.5 1.4 0.3]\n",
      " [5.7 3.8 1.7 0.3]\n",
      " [5.1 3.8 1.5 0.3]\n",
      " [5.4 3.4 1.7 0.2]\n",
      " [5.1 3.7 1.5 0.4]\n",
      " [4.6 3.6 1.  0.2]\n",
      " [5.1 3.3 1.7 0.5]\n",
      " [4.8 3.4 1.9 0.2]\n",
      " [5.  3.  1.6 0.2]\n",
      " [5.  3.4 1.6 0.4]\n",
      " [5.2 3.5 1.5 0.2]\n",
      " [5.2 3.4 1.4 0.2]\n",
      " [4.7 3.2 1.6 0.2]\n",
      " [4.8 3.1 1.6 0.2]\n",
      " [5.4 3.4 1.5 0.4]\n",
      " [5.2 4.1 1.5 0.1]\n",
      " [5.5 4.2 1.4 0.2]\n",
      " [4.9 3.1 1.5 0.2]\n",
      " [5.  3.2 1.2 0.2]\n",
      " [5.5 3.5 1.3 0.2]\n",
      " [4.9 3.6 1.4 0.1]\n",
      " [4.4 3.  1.3 0.2]\n",
      " [5.1 3.4 1.5 0.2]\n",
      " [5.  3.5 1.3 0.3]\n",
      " [4.5 2.3 1.3 0.3]\n",
      " [4.4 3.2 1.3 0.2]\n",
      " [5.  3.5 1.6 0.6]\n",
      " [5.1 3.8 1.9 0.4]\n",
      " [4.8 3.  1.4 0.3]\n",
      " [5.1 3.8 1.6 0.2]\n",
      " [4.6 3.2 1.4 0.2]\n",
      " [5.3 3.7 1.5 0.2]\n",
      " [5.  3.3 1.4 0.2]\n",
      " [7.  3.2 4.7 1.4]\n",
      " [6.4 3.2 4.5 1.5]\n",
      " [6.9 3.1 4.9 1.5]\n",
      " [5.5 2.3 4.  1.3]\n",
      " [6.5 2.8 4.6 1.5]\n",
      " [5.7 2.8 4.5 1.3]\n",
      " [6.3 3.3 4.7 1.6]\n",
      " [4.9 2.4 3.3 1. ]\n",
      " [6.6 2.9 4.6 1.3]\n",
      " [5.2 2.7 3.9 1.4]\n",
      " [5.  2.  3.5 1. ]\n",
      " [5.9 3.  4.2 1.5]\n",
      " [6.  2.2 4.  1. ]\n",
      " [6.1 2.9 4.7 1.4]\n",
      " [5.6 2.9 3.6 1.3]\n",
      " [6.7 3.1 4.4 1.4]\n",
      " [5.6 3.  4.5 1.5]\n",
      " [5.8 2.7 4.1 1. ]\n",
      " [6.2 2.2 4.5 1.5]\n",
      " [5.6 2.5 3.9 1.1]\n",
      " [5.9 3.2 4.8 1.8]\n",
      " [6.1 2.8 4.  1.3]\n",
      " [6.3 2.5 4.9 1.5]\n",
      " [6.1 2.8 4.7 1.2]\n",
      " [6.4 2.9 4.3 1.3]\n",
      " [6.6 3.  4.4 1.4]\n",
      " [6.8 2.8 4.8 1.4]\n",
      " [6.7 3.  5.  1.7]\n",
      " [6.  2.9 4.5 1.5]\n",
      " [5.7 2.6 3.5 1. ]\n",
      " [5.5 2.4 3.8 1.1]\n",
      " [5.5 2.4 3.7 1. ]\n",
      " [5.8 2.7 3.9 1.2]\n",
      " [6.  2.7 5.1 1.6]\n",
      " [5.4 3.  4.5 1.5]\n",
      " [6.  3.4 4.5 1.6]\n",
      " [6.7 3.1 4.7 1.5]\n",
      " [6.3 2.3 4.4 1.3]\n",
      " [5.6 3.  4.1 1.3]\n",
      " [5.5 2.5 4.  1.3]\n",
      " [5.5 2.6 4.4 1.2]\n",
      " [6.1 3.  4.6 1.4]\n",
      " [5.8 2.6 4.  1.2]\n",
      " [5.  2.3 3.3 1. ]\n",
      " [5.6 2.7 4.2 1.3]\n",
      " [5.7 3.  4.2 1.2]\n",
      " [5.7 2.9 4.2 1.3]\n",
      " [6.2 2.9 4.3 1.3]\n",
      " [5.1 2.5 3.  1.1]\n",
      " [5.7 2.8 4.1 1.3]\n",
      " [6.3 3.3 6.  2.5]\n",
      " [5.8 2.7 5.1 1.9]\n",
      " [7.1 3.  5.9 2.1]\n",
      " [6.3 2.9 5.6 1.8]\n",
      " [6.5 3.  5.8 2.2]\n",
      " [7.6 3.  6.6 2.1]\n",
      " [4.9 2.5 4.5 1.7]\n",
      " [7.3 2.9 6.3 1.8]\n",
      " [6.7 2.5 5.8 1.8]\n",
      " [7.2 3.6 6.1 2.5]\n",
      " [6.5 3.2 5.1 2. ]\n",
      " [6.4 2.7 5.3 1.9]\n",
      " [6.8 3.  5.5 2.1]\n",
      " [5.7 2.5 5.  2. ]\n",
      " [5.8 2.8 5.1 2.4]\n",
      " [6.4 3.2 5.3 2.3]\n",
      " [6.5 3.  5.5 1.8]\n",
      " [7.7 3.8 6.7 2.2]\n",
      " [7.7 2.6 6.9 2.3]\n",
      " [6.  2.2 5.  1.5]\n",
      " [6.9 3.2 5.7 2.3]\n",
      " [5.6 2.8 4.9 2. ]\n",
      " [7.7 2.8 6.7 2. ]\n",
      " [6.3 2.7 4.9 1.8]\n",
      " [6.7 3.3 5.7 2.1]\n",
      " [7.2 3.2 6.  1.8]\n",
      " [6.2 2.8 4.8 1.8]\n",
      " [6.1 3.  4.9 1.8]\n",
      " [6.4 2.8 5.6 2.1]\n",
      " [7.2 3.  5.8 1.6]\n",
      " [7.4 2.8 6.1 1.9]\n",
      " [7.9 3.8 6.4 2. ]\n",
      " [6.4 2.8 5.6 2.2]\n",
      " [6.3 2.8 5.1 1.5]\n",
      " [6.1 2.6 5.6 1.4]\n",
      " [7.7 3.  6.1 2.3]\n",
      " [6.3 3.4 5.6 2.4]\n",
      " [6.4 3.1 5.5 1.8]\n",
      " [6.  3.  4.8 1.8]\n",
      " [6.9 3.1 5.4 2.1]\n",
      " [6.7 3.1 5.6 2.4]\n",
      " [6.9 3.1 5.1 2.3]\n",
      " [5.8 2.7 5.1 1.9]\n",
      " [6.8 3.2 5.9 2.3]\n",
      " [6.7 3.3 5.7 2.5]\n",
      " [6.7 3.  5.2 2.3]\n",
      " [6.3 2.5 5.  1.9]\n",
      " [6.5 3.  5.2 2. ]\n",
      " [6.2 3.4 5.4 2.3]\n",
      " [5.9 3.  5.1 1.8]]\n",
      "['sepal length (cm)', 'sepal width (cm)', 'petal length (cm)', 'petal width (cm)']\n",
      "[0 0 0 0 0 0 0 0 0 0 0 0 0 0 0 0 0 0 0 0 0 0 0 0 0 0 0 0 0 0 0 0 0 0 0 0 0\n",
      " 0 0 0 0 0 0 0 0 0 0 0 0 0 1 1 1 1 1 1 1 1 1 1 1 1 1 1 1 1 1 1 1 1 1 1 1 1\n",
      " 1 1 1 1 1 1 1 1 1 1 1 1 1 1 1 1 1 1 1 1 1 1 1 1 1 1 2 2 2 2 2 2 2 2 2 2 2\n",
      " 2 2 2 2 2 2 2 2 2 2 2 2 2 2 2 2 2 2 2 2 2 2 2 2 2 2 2 2 2 2 2 2 2 2 2 2 2\n",
      " 2 2]\n",
      "['setosa' 'versicolor' 'virginica']\n"
     ]
    }
   ],
   "source": [
    "print(iris.DESCR)\n",
    "print(iris.data)\n",
    "print(iris.feature_names)\n",
    "print(iris.target)\n",
    "print(iris.target_names)"
   ]
  },
  {
   "cell_type": "markdown",
   "metadata": {},
   "source": [
    "So, we can see that the attributes of the second flower are `[4.9, 3.0, 1.4, 0.2]`, which means its `sepal_length` is 4.9 cm, `sepal_width` is 3.0 cm, `petal_length` is 1.4 cm, and `petal_width` is 0.2 cm. We will write it matematically as $x_2 = [x_{21}, x_{22}, x_{23}, x_{24}] = [4.9, 3.0, 1.4, 0.2]$. We see that its `target` is 0, which means the type of this iris is `setosa`. We will write it matematically as $y_2 = 0$. All this information was obtained by real botanists who studied iris flowers trying to understand the physical measurements that discriminate between the 3 different types of those flowers.\n",
    "\n",
    "In data science, people like to denote this data set as $D_{Iris} = \\{(x_i, y_i), i = 1, 2 ... 150\\}$, meaning that data set $D_{Iris}$ is a set of 150 labeled examples $(x_i, y_i)$. An alternative is to write $D_{Iris} = \\{X_{Iris}, Y_{Iris}\\}$.\n",
    "\n",
    "### Supervised Learning\n",
    "Supervised learning is a game with the following objective. You are given the iris data set $D_{Iris}$ where you know 4 attributes and target values for 150 irises and your objective is to come up with a computer program that predicts a type of any iris flower given the values of its 4 attributes. Written in pseudocode, this is what you have to do:\n",
    "\n",
    "`predictor = create(algorithm_type, D)\n",
    "y_new = predictor(x_new)`\n",
    "\n",
    "In the first line, you are running a `create` function that takes as input data set `D` and the name of a supervised learning algorithm `algorithm_type` and produces as an output a computer program `predictor`. In the second line, you are using `predictor` to predict the label (`y_new` value) for a flower whose attributes are given by `x_new`.\n",
    "\n",
    "### kNN Algorithm\n",
    "kNN is a popular supervised learning algorithm that allows us to create `predictor`. The idea of kNN is that the label of flower `x_new` depends on labels of flowers in its neighborhood. In particular, kNN finds the distance between `x_new` and every example `x` in data set `D`. Then, it looks at the label `y` of k examples which are the closest to `x_new`. The predicted label `y_new` is obtained as the most common label in the group of the k nearest neighbors.\n",
    "\n",
    "**Parameter choice**. We need to make a few decisions when running kNN. The most important is the choice of `k`. If `k = 1`, then we are looking only at the hearest neighbor and it might not be a good idea if we are dealing with noisy data. If `k` is very large, then we might be counting far neighbors that might have different properties. Other decisions include the choice of distance metric (Euclidean is the standard one) and the choice whether to weight closer neighbors more than the farther ones.\n",
    "\n",
    "**Accuracy**. When deciding which parameters to pick or which supervised learning algorithm to use (there are popular algorithms other than kNN), the question is how to measure which choice is better. The answer is to check if `predictor` provides accurate prediction. Given a data set `D`, a typical way to check accuracy is to randomly split `D` into two data sets, `D_train` and `D_test`. Then, `predictor` is created/trained using `D_train` data set and its accuracy is checked using `D_test`. In particular, we use `predictor` to predict label of every example from `D_test` and compare it with the true labels. The percentage of the correct guesses on `D_test` is reported as accuracy of `predictor`.\n",
    "\n",
    "## kNN Demo\n",
    "The following piece of code is taken from:\n",
    "http://scikit-learn.org/stable/auto_examples/neighbors/plot_classification.html#sphx-glr-auto-examples-neighbors-plot-classification-py. Let us run it."
   ]
  },
  {
   "cell_type": "code",
   "execution_count": 8,
   "metadata": {},
   "outputs": [
    {
     "data": {
      "text/plain": [
       "<Figure size 432x288 with 0 Axes>"
      ]
     },
     "metadata": {},
     "output_type": "display_data"
    },
    {
     "data": {
      "image/png": "[encoded data removed]",
      "text/plain": [
       "<Figure size 432x216 with 1 Axes>"
      ]
     },
     "metadata": {
      "needs_background": "light"
     },
     "output_type": "display_data"
    }
   ],
   "source": [
    "k = 1   # how many nearest neighbors are consulted\n",
    "\n",
    "X = iris.data[:, [0,1]]  # we only take the first two features. We could\n",
    "y = iris.target\n",
    "\n",
    "h = .02  # step size in the mesh\n",
    "\n",
    "# Create color maps\n",
    "cmap_light = ListedColormap(['#FFAAAA', '#AAFFAA', '#AAAAFF'])\n",
    "cmap_bold = ListedColormap(['#FF0000', '#00FF00', '#0000FF'])\n",
    "\n",
    "# we create an instance of Neighbours Classifier and fit the data.\n",
    "clf = neighbors.KNeighborsClassifier(k, weights='uniform')\n",
    "clf.fit(X, y)\n",
    "\n",
    "# Plot the decision boundary. For that, we will assign a color to each\n",
    "# point in the mesh [x_min, x_max]x[y_min, y_max].\n",
    "x_min, x_max = X[:, 0].min() - 1, X[:, 0].max() + 1\n",
    "y_min, y_max = X[:, 1].min() - 1, X[:, 1].max() + 1\n",
    "xx, yy = np.meshgrid(np.arange(x_min, x_max, h),\n",
    "                     np.arange(y_min, y_max, h))\n",
    "Z = clf.predict(np.c_[xx.ravel(), yy.ravel()])\n",
    "\n",
    "# Put the result into a color plot\n",
    "Z = Z.reshape(xx.shape)\n",
    "plt.figure()\n",
    "plt.figure(figsize=(6,3))   # this makes both axis equal \n",
    "plt.pcolormesh(xx, yy, Z, cmap=cmap_light)\n",
    "\n",
    "# Plot also the training points\n",
    "plt.scatter(X[:, 0], X[:, 1], c=y, cmap=cmap_bold)\n",
    "plt.xlim(xx.min(), xx.max())\n",
    "plt.ylim(yy.min(), yy.max())\n",
    "plt.title(\"3-Class classification (k = %i, weights = '%s')\" % (k, 'uniform'))\n",
    "plt.show()"
   ]
  },
  {
   "cell_type": "markdown",
   "metadata": {},
   "source": [
    "The resulting figure shows the predictions of kNN when $k=1$. If `x_new` is in the blue region, the prediction will be the blue class. From this picture, we can observe a small blue blobs inside the predominantly gray area. This is because the nearest neighbor in this area is the blue example. \n",
    "\n",
    "**Question 1**. Change value of k to 3 and observe if there is any difference. Discuss what you see and why."
   ]
  },
  {
   "cell_type": "code",
   "execution_count": 9,
   "metadata": {},
   "outputs": [
    {
     "data": {
      "text/plain": [
       "<Figure size 432x288 with 0 Axes>"
      ]
     },
     "metadata": {},
     "output_type": "display_data"
    },
    {
     "data": {
      "image/png": "[encoded data removed]",
      "text/plain": [
       "<Figure size 432x216 with 1 Axes>"
      ]
     },
     "metadata": {
      "needs_background": "light"
     },
     "output_type": "display_data"
    }
   ],
   "source": [
    "k = 3   # how many nearest neighbors are consulted\n",
    "\n",
    "X = iris.data[:, [0,1]]  # we only take the first two features. We could\n",
    "y = iris.target\n",
    "\n",
    "h = .02  # step size in the mesh\n",
    "\n",
    "# Create color maps\n",
    "cmap_light = ListedColormap(['#FFAAAA', '#AAFFAA', '#AAAAFF'])\n",
    "cmap_bold = ListedColormap(['#FF0000', '#00FF00', '#0000FF'])\n",
    "\n",
    "# we create an instance of Neighbours Classifier and fit the data.\n",
    "clf = neighbors.KNeighborsClassifier(k, weights='uniform')\n",
    "clf.fit(X, y)\n",
    "\n",
    "# Plot the decision boundary. For that, we will assign a color to each\n",
    "# point in the mesh [x_min, x_max]x[y_min, y_max].\n",
    "x_min, x_max = X[:, 0].min() - 1, X[:, 0].max() + 1\n",
    "y_min, y_max = X[:, 1].min() - 1, X[:, 1].max() + 1\n",
    "xx, yy = np.meshgrid(np.arange(x_min, x_max, h),\n",
    "                     np.arange(y_min, y_max, h))\n",
    "Z = clf.predict(np.c_[xx.ravel(), yy.ravel()])\n",
    "\n",
    "# Put the result into a color plot\n",
    "Z = Z.reshape(xx.shape)\n",
    "plt.figure()\n",
    "plt.figure(figsize=(6,3))   # this makes both axis equal \n",
    "plt.pcolormesh(xx, yy, Z, cmap=cmap_light)\n",
    "\n",
    "# Plot also the training points\n",
    "plt.scatter(X[:, 0], X[:, 1], c=y, cmap=cmap_bold)\n",
    "plt.xlim(xx.min(), xx.max())\n",
    "plt.ylim(yy.min(), yy.max())\n",
    "plt.title(\"3-Class classification (k = %i, weights = '%s')\" % (k, 'uniform'))\n",
    "plt.show()"
   ]
  },
  {
   "cell_type": "markdown",
   "metadata": {},
   "source": [
    "<h4>\n",
    "    <strong>\n",
    "    It's evident that with k = 3 the boundaries between each class are more clearly defined. So while the color of the points remained the same, it is pretty obvious that the green class has become more clearly defined. This happened because the areas are being decided by the closest three datapoints instead of just it's closest nieghbor when k equals 1. \n",
    "    </strong>\n",
    "</h4>"
   ]
  },
  {
   "cell_type": "markdown",
   "metadata": {},
   "source": [
    "**Question 2**. Change k to an even higher value, let us say to 25. What do we see now? Discuss."
   ]
  },
  {
   "cell_type": "code",
   "execution_count": 10,
   "metadata": {},
   "outputs": [
    {
     "data": {
      "text/plain": [
       "<Figure size 432x288 with 0 Axes>"
      ]
     },
     "metadata": {},
     "output_type": "display_data"
    },
    {
     "data": {
      "image/png": "[encoded data removed]",
      "text/plain": [
       "<Figure size 432x216 with 1 Axes>"
      ]
     },
     "metadata": {
      "needs_background": "light"
     },
     "output_type": "display_data"
    }
   ],
   "source": [
    "k = 25   # how many nearest neighbors are consulted\n",
    "\n",
    "X = iris.data[:, [0,1]]  # we only take the first two features. We could\n",
    "y = iris.target\n",
    "\n",
    "h = .02  # step size in the mesh\n",
    "\n",
    "# Create color maps\n",
    "cmap_light = ListedColormap(['#FFAAAA', '#AAFFAA', '#AAAAFF'])\n",
    "cmap_bold = ListedColormap(['#FF0000', '#00FF00', '#0000FF'])\n",
    "\n",
    "# we create an instance of Neighbours Classifier and fit the data.\n",
    "clf = neighbors.KNeighborsClassifier(k, weights='uniform')\n",
    "clf.fit(X, y)\n",
    "\n",
    "# Plot the decision boundary. For that, we will assign a color to each\n",
    "# point in the mesh [x_min, x_max]x[y_min, y_max].\n",
    "x_min, x_max = X[:, 0].min() - 1, X[:, 0].max() + 1\n",
    "y_min, y_max = X[:, 1].min() - 1, X[:, 1].max() + 1\n",
    "xx, yy = np.meshgrid(np.arange(x_min, x_max, h),\n",
    "                     np.arange(y_min, y_max, h))\n",
    "Z = clf.predict(np.c_[xx.ravel(), yy.ravel()])\n",
    "\n",
    "# Put the result into a color plot\n",
    "Z = Z.reshape(xx.shape)\n",
    "plt.figure()\n",
    "plt.figure(figsize=(6,3))   # this makes both axis equal \n",
    "plt.pcolormesh(xx, yy, Z, cmap=cmap_light)\n",
    "\n",
    "# Plot also the training points\n",
    "plt.scatter(X[:, 0], X[:, 1], c=y, cmap=cmap_bold)\n",
    "plt.xlim(xx.min(), xx.max())\n",
    "plt.ylim(yy.min(), yy.max())\n",
    "plt.title(\"3-Class classification (k = %i, weights = '%s')\" % (k, 'uniform'))\n",
    "plt.show()"
   ]
  },
  {
   "cell_type": "markdown",
   "metadata": {},
   "source": [
    "<h4>\n",
    "    <strong>\n",
    "    Now the classes are much more clearly defined with red gaining more ground from the green class in the left corner of the graph. Red has also given some ground to the blue class in the top-center of the graph. Additionally, the green class as shrunk considerably but that is an indication that it had too much ground when k was lower. Obviously, this is because with 25 nearest neighbor points being considered in the classes are more accurate with this dataset.\n",
    "    </strong>\n",
    "</h4>"
   ]
  },
  {
   "cell_type": "markdown",
   "metadata": {},
   "source": [
    "**Queston 3**. In the line that creates `clf` change weights='uniform' to weights='distance'. Check the documentation or google to understand what it means. Explain. Run the code and discuss if you see any difference."
   ]
  },
  {
   "cell_type": "code",
   "execution_count": 11,
   "metadata": {},
   "outputs": [
    {
     "data": {
      "text/plain": [
       "<Figure size 432x288 with 0 Axes>"
      ]
     },
     "metadata": {},
     "output_type": "display_data"
    },
    {
     "data": {
      "image/png": "[encoded data removed]",
      "text/plain": [
       "<Figure size 432x216 with 1 Axes>"
      ]
     },
     "metadata": {
      "needs_background": "light"
     },
     "output_type": "display_data"
    }
   ],
   "source": [
    "k = 25   # how many nearest neighbors are consulted\n",
    "\n",
    "X = iris.data[:, [0,1]]  # we only take the first two features. We could\n",
    "y = iris.target \n",
    "#sets y = [0 0 0 0 0 0 0 0 0 0 0 0 0 0 0 0 0 0 0 0 0 0 0 0 0 0 0 0 0 0 0 0 0 0 0 0 0\n",
    "#0 0 0 0 0 0 0 0 0 0 0 0 0 1 1 1 1 1 1 1 1 1 1 1 1 1 1 1 1 1 1 1 1 1 1 1 1\n",
    "#1 1 1 1 1 1 1 1 1 1 1 1 1 1 1 1 1 1 1 1 1 1 1 1 1 1 2 2 2 2 2 2 2 2 2 2 2\n",
    "#2 2 2 2 2 2 2 2 2 2 2 2 2 2 2 2 2 2 2 2 2 2 2 2 2 2 2 2 2 2 2 2 2 2 2 2 2\n",
    "#2 2]\n",
    "\n",
    "h = .02  # step size in the mesh\n",
    "\n",
    "# Create color maps\n",
    "cmap_light = ListedColormap(['#FFAAAA', '#AAFFAA', '#AAAAFF'])\n",
    "cmap_bold = ListedColormap(['#FF0000', '#00FF00', '#0000FF'])\n",
    "\n",
    "# we create an instance of Neighbours Classifier and fit the data.\n",
    "clf = neighbors.KNeighborsClassifier(k, weights='distance')\n",
    "clf.fit(X, y)\n",
    "\n",
    "# Plot the decision boundary. For that, we will assign a color to each\n",
    "# point in the mesh [x_min, x_max]x[y_min, y_max].\n",
    "x_min, x_max = X[:, 0].min() - 1, X[:, 0].max() + 1\n",
    "y_min, y_max = X[:, 1].min() - 1, X[:, 1].max() + 1\n",
    "xx, yy = np.meshgrid(np.arange(x_min, x_max, h),\n",
    "                     np.arange(y_min, y_max, h))\n",
    "Z = clf.predict(np.c_[xx.ravel(), yy.ravel()])\n",
    "\n",
    "# Put the result into a color plot\n",
    "Z = Z.reshape(xx.shape)\n",
    "plt.figure()\n",
    "plt.figure(figsize=(6,3))   # this makes both axis equal \n",
    "plt.pcolormesh(xx, yy, Z, cmap=cmap_light)\n",
    "\n",
    "# Plot also the training points\n",
    "plt.scatter(X[:, 0], X[:, 1], c=y, cmap=cmap_bold)\n",
    "plt.xlim(xx.min(), xx.max())\n",
    "plt.ylim(yy.min(), yy.max())\n",
    "plt.title(\"3-Class classification (k = %i, weights = '%s')\" % (k, 'distance'))\n",
    "plt.show()"
   ]
  },
  {
   "cell_type": "markdown",
   "metadata": {},
   "source": [
    "<h3>\n",
    "<strong>  \n",
    "Check the documentation or google to understand what it means. Explain. Run the code and discuss if you see any difference:\n",
    "    </strong>\n",
    "</h3>\n",
    "<strong>\n",
    "    <p>\n",
    "        <br>\n",
    "        If you observe the blue point in the middle of the line between the red and green class, the line is slightly receding, giving ground to the green class. Additionally, the blue line is indicating that it will take some ground from red if we increase k further (I checked this is true). This is happening because 'uniform' sets all points in each neighborhood as weighted equally and 'distance' sets closer neighbors of a query point with greater influence than neighbors which are further away. This would explain the changes in the graph.\n",
    "    </p>\n",
    "    </strong>"
   ]
  },
  {
   "cell_type": "markdown",
   "metadata": {},
   "source": [
    "**Question 4**. Take a look at the code and try to understand what each line of the code does. Explain each line of code."
   ]
  },
  {
   "cell_type": "code",
   "execution_count": 5,
   "metadata": {},
   "outputs": [
    {
     "data": {
      "text/plain": [
       "<Figure size 432x288 with 0 Axes>"
      ]
     },
     "metadata": {},
     "output_type": "display_data"
    },
    {
     "data": {
      "image/png": "[encoded data removed]",
      "text/plain": [
       "<Figure size 432x216 with 1 Axes>"
      ]
     },
     "metadata": {
      "needs_background": "light"
     },
     "output_type": "display_data"
    }
   ],
   "source": [
    "k = 25   # k = 25 means that the 25 closest data points will be consulted\n",
    "\n",
    "X = iris.data[:, [0,1]]  # X is equal to every row of iris.data but only the first two columns\n",
    "y = iris.target # y is equal to a matrix containing the type of flower for each row in iris.data\n",
    "\n",
    "h = .02  # size between the steps in the meshgrid\n",
    "\n",
    "# Creates color map for the background colors of light red, light green, and light blue/purple\n",
    "cmap_light = ListedColormap(['#FFAAAA', '#AAFFAA', '#AAAAFF'])\n",
    "# Creates color map for the data point colors of red, green, and blue\n",
    "cmap_bold = ListedColormap(['#FF0000', '#00FF00', '#0000FF'])\n",
    "\n",
    "# Creates an instance of neighbours classifier to implement the k-nearest neighbors vote.\n",
    "clf = neighbors.KNeighborsClassifier(k, weights='distance')\n",
    "#fits the model using X as training data and y as target values\n",
    "clf.fit(X, y)\n",
    "\n",
    "\n",
    "#sets the decision boundries for x, 1 smaller than the min value in x and a d 1 bigger than the max value in x\n",
    "x_min, x_max = X[:, 0].min() - 1, X[:, 0].max() + 1 \n",
    "#sets the decision boundries for y, 1 smaller than the min value in y and a d 1 bigger than the max value in y\n",
    "y_min, y_max = X[:, 1].min() - 1, X[:, 1].max() + 1\n",
    "\n",
    "#returns the points for each x and y point in the meshgrid to xx and yy respectively.\n",
    "xx, yy = np.meshgrid(np.arange(x_min, x_max, h),\n",
    "                     np.arange(y_min, y_max, h)) \n",
    "\n",
    "#np.c Translates slice objects to concatenation along the second axis.\n",
    "#and xx.ravel() and yy.ravel() return a contiguous flattened array for xx and yy respectively.\n",
    "Z = clf.predict(np.c_[xx.ravel(), yy.ravel()])\n",
    "\n",
    "\n",
    "#takes xx's shape (which contains the meshgrid) and changes it to match \n",
    "#with Z and sets Z to that shape. making Z a scalar 2-D array. \n",
    "Z = Z.reshape(xx.shape) \n",
    "\n",
    "#creats a plt.figure\n",
    "plt.figure() \n",
    "# changes the size of the figure from the defaults\n",
    "plt.figure(figsize=(6,3))\n",
    "\n",
    "#Creates a pseudocolor plot with a non-regular rectangular grid. \n",
    "#The coordinates of the quadrilateral corners are recieved from xx and yy\n",
    "#Z is a scalar 2-D array. The values will be color-mapped with cmap_light.\n",
    "plt.pcolormesh(xx, yy, Z, cmap=cmap_light)\n",
    "\n",
    "# Plots the training points. y is passed (the given rows flower type). \n",
    "#and the color-map is set to the colors designated for the data points\n",
    "plt.scatter(X[:, 0], X[:, 1], c=y, cmap=cmap_bold)\n",
    "\n",
    "#next 3 lines configure the axes and set a title for the scatter plot\n",
    "plt.xlim(xx.min(), xx.max())\n",
    "plt.ylim(yy.min(), yy.max())\n",
    "plt.title(\"3-Class classification (k = %i, weights = '%s')\" % (k, 'distance'))\n",
    "\n",
    "#prints plt figure\n",
    "plt.show()"
   ]
  },
  {
   "cell_type": "markdown",
   "metadata": {},
   "source": [
    "<strong>\n",
    "    <h3>\n",
    "        The answers for question 4 are written as comments in the above code\n",
    "    </h3>\n",
    "    </strong>"
   ]
  },
  {
   "cell_type": "markdown",
   "metadata": {},
   "source": [
    "### Training and testing\n",
    "  As mentioned above, the typical mechanism for testing accuracy of a `predictor` is to split the data randomly into training and testing, train `predictor` on training data and test its performance on test data. Let us see how it can be done."
   ]
  },
  {
   "cell_type": "code",
   "execution_count": 13,
   "metadata": {},
   "outputs": [],
   "source": [
    "#changed '.cross_validation' to '.model_selection' \n",
    "from sklearn.model_selection import train_test_split \n",
    "X_train, X_test, y_train, y_test = train_test_split(\n",
    "    X, y, test_size=0.33)"
   ]
  },
  {
   "cell_type": "markdown",
   "metadata": {},
   "source": [
    "**Question 5**. What is the size of the resulting objects?"
   ]
  },
  {
   "cell_type": "code",
   "execution_count": 38,
   "metadata": {},
   "outputs": [
    {
     "name": "stdout",
     "output_type": "stream",
     "text": [
      "Size of X_train:  200\n",
      "Size of X_test:  100\n",
      "Size of y_train:  100\n",
      "Size of y_test:  50\n"
     ]
    }
   ],
   "source": [
    "print'Size of X_train: ',np.size(X_train)\n",
    "print'Size of X_test: ',np.size(X_test)\n",
    "print'Size of y_train: ',np.size(y_train)\n",
    "print'Size of y_test: ',np.size(y_test)"
   ]
  },
  {
   "cell_type": "markdown",
   "metadata": {},
   "source": [
    "Now that we created training and test sets, we can train a kNN classifier using the training data. Before moving forward, let us take a second and take a look at the documentation for kNN implementation in sklearn: http://scikit-learn.org/stable/modules/generated/sklearn.neighbors.KNeighborsClassifier.html.\n",
    "\n",
    "Let us train the kNN predictor:"
   ]
  },
  {
   "cell_type": "code",
   "execution_count": 39,
   "metadata": {},
   "outputs": [
    {
     "name": "stdout",
     "output_type": "stream",
     "text": [
      "KNeighborsClassifier(algorithm='auto', leaf_size=30, metric='minkowski',\n",
      "           metric_params=None, n_jobs=None, n_neighbors=1, p=2,\n",
      "           weights='uniform')\n"
     ]
    }
   ],
   "source": [
    "#from sklearn.neighbors import KNeighborsClassifier\n",
    "k = 1   # number of nearest neighbors\n",
    "predictor = neighbors.KNeighborsClassifier(n_neighbors = k)\n",
    "predictor.fit(X_train, y_train);\n",
    "print(predictor)"
   ]
  },
  {
   "cell_type": "markdown",
   "metadata": {},
   "source": [
    "Now that we trained `predictor` we can use it to provide predictions on any example `x`. "
   ]
  },
  {
   "cell_type": "code",
   "execution_count": 40,
   "metadata": {},
   "outputs": [
    {
     "name": "stdout",
     "output_type": "stream",
     "text": [
      "[[4.8 3.4]\n",
      " [4.4 3. ]\n",
      " [5.6 3. ]\n",
      " [5.9 3. ]]\n",
      "[[0 0]\n",
      " [0 0]\n",
      " [1 1]\n",
      " [1 2]]\n"
     ]
    }
   ],
   "source": [
    "# select the first 4 test examples\n",
    "i = [0,1,2,3]\n",
    "x = X_test[i,:]\n",
    "print(x)\n",
    "# predict its label\n",
    "yhat = predictor.predict(x)\n",
    "# compare predicted and true labels\n",
    "print(np.array(zip(yhat,y_test[i])))"
   ]
  },
  {
   "cell_type": "markdown",
   "metadata": {},
   "source": [
    "**Question 6**. Did your kNN predictor do a good job in predicting labels of the first 4 test examples? \n",
    "<h3>\n",
    "<strong>The predictor did a pretty good job with three out of four predictions being correct.</strong>\n",
    "</h3>"
   ]
  },
  {
   "cell_type": "markdown",
   "metadata": {},
   "source": [
    "**Question 7**. Write a piece of code that calculates the accuracy on those 4 test examples (number of correct guesses divided by the total number of guesses\n",
    "\n",
    "Pay attention that methods in sklearn.neighbors.KNeighborsClassifier allow you to test the accuracy in a faster way (you should not use it to answer Questions 7 and 8):\n"
   ]
  },
  {
   "cell_type": "code",
   "execution_count": 41,
   "metadata": {},
   "outputs": [
    {
     "name": "stdout",
     "output_type": "stream",
     "text": [
      "0.75\n"
     ]
    }
   ],
   "source": [
    "corrCount = 0.0\n",
    "totalCount = 0.0\n",
    "count = 0\n",
    "for x in yhat:\n",
    "    if (x == y_test[count]):\n",
    "        corrCount += 1\n",
    "    totalCount += 1\n",
    "    count+=1\n",
    "\n",
    "acc = float(corrCount / totalCount)\n",
    "#print(corrCount)\n",
    "#print(totalCount)\n",
    "print(acc)       "
   ]
  },
  {
   "cell_type": "markdown",
   "metadata": {},
   "source": [
    "**Question 8**. Find the predictions on all test examples in `X_test` and calculate the accuracy using your code from *Question 7*.\n",
    "\n",
    "Pay attention that methods in sklearn.neighbors.KNeighborsClassifier allow you to test the accuracy in a faster way (you should not use it to answer Questions 7 and 8):"
   ]
  },
  {
   "cell_type": "code",
   "execution_count": 42,
   "metadata": {},
   "outputs": [
    {
     "name": "stdout",
     "output_type": "stream",
     "text": [
      "[[0 0]\n",
      " [0 0]\n",
      " [1 1]\n",
      " [1 2]\n",
      " [2 2]\n",
      " [0 0]\n",
      " [0 0]\n",
      " [0 0]\n",
      " [0 0]\n",
      " [0 0]\n",
      " [1 2]\n",
      " [1 1]\n",
      " [2 2]\n",
      " [2 1]\n",
      " [2 2]\n",
      " [1 1]\n",
      " [1 1]\n",
      " [2 2]\n",
      " [2 1]\n",
      " [2 1]\n",
      " [1 2]\n",
      " [1 2]\n",
      " [2 2]\n",
      " [0 0]\n",
      " [0 0]\n",
      " [2 1]\n",
      " [1 2]\n",
      " [2 2]\n",
      " [1 1]\n",
      " [0 0]\n",
      " [1 2]\n",
      " [2 2]\n",
      " [2 2]\n",
      " [1 2]\n",
      " [1 1]\n",
      " [0 0]\n",
      " [1 2]\n",
      " [1 1]\n",
      " [2 2]\n",
      " [0 0]\n",
      " [0 0]\n",
      " [2 1]\n",
      " [2 1]\n",
      " [1 2]\n",
      " [1 2]\n",
      " [2 1]\n",
      " [1 0]\n",
      " [0 0]\n",
      " [0 0]\n",
      " [0 0]]\n"
     ]
    }
   ],
   "source": [
    "x8 = X_test[:,:]\n",
    "#print(x8)\n",
    "# predict its label\n",
    "yhat8 = predictor.predict(x8)\n",
    "# compare predicted and true labels\n",
    "print(np.array(zip(yhat8,y_test[:])))\n"
   ]
  },
  {
   "cell_type": "code",
   "execution_count": 43,
   "metadata": {},
   "outputs": [
    {
     "name": "stdout",
     "output_type": "stream",
     "text": [
      "0.32\n"
     ]
    }
   ],
   "source": [
    "corrCount8 = 0.0\n",
    "totalCount8 = 0.0\n",
    "for x8 in yhat8:\n",
    "    if (x8 == y_test[count]):\n",
    "        corrCount8 += 1\n",
    "    totalCount8 += 1\n",
    "\n",
    "acc8 = float(corrCount8 / totalCount8)\n",
    "#print(corrCount)\n",
    "#print(totalCount)\n",
    "print(acc8)  "
   ]
  },
  {
   "cell_type": "code",
   "execution_count": 44,
   "metadata": {},
   "outputs": [],
   "source": [
    "#this is nothing, I just wanted to save this code where I could find it\n",
    "#accuracy = predictor.score(X_test,y_test)\n",
    "#print(accuracy)"
   ]
  },
  {
   "cell_type": "markdown",
   "metadata": {},
   "source": [
    "**Question 9**. Train `predictor` using different choices of k. Try $k = 1, 3, 5, 15, 25, 50$. Report the accuracies on the test data (you can use the score method). Which choice of $k$ resulted in the highest accuracy? Comment briefly if the results make sense to you."
   ]
  },
  {
   "cell_type": "code",
   "execution_count": 45,
   "metadata": {},
   "outputs": [
    {
     "name": "stdout",
     "output_type": "stream",
     "text": [
      "KNeighborsClassifier(algorithm='auto', leaf_size=30, metric='minkowski',\n",
      "           metric_params=None, n_jobs=None, n_neighbors=1, p=2,\n",
      "           weights='uniform')\n",
      "0.64\n"
     ]
    }
   ],
   "source": [
    "#K = 1\n",
    "#from sklearn.neighbors import KNeighborsClassifier\n",
    "k = 1   # number of nearest neighbors\n",
    "predictork1 = neighbors.KNeighborsClassifier(n_neighbors = k)\n",
    "predictork1.fit(X_train, y_train);\n",
    "print(predictork1)\n",
    "\n",
    "xk1 = X_test[:,:]\n",
    "#print(x8)\n",
    "# predict its label\n",
    "yhatk1 = predictork1.predict(xk1)\n",
    "# compare predicted and true labels\n",
    "#print(np.array(zip(yhat9,y_test[:])))\n",
    "accuracyk1 = predictork1.score(X_test,y_test)\n",
    "print(accuracyk1)"
   ]
  },
  {
   "cell_type": "code",
   "execution_count": 46,
   "metadata": {},
   "outputs": [
    {
     "name": "stdout",
     "output_type": "stream",
     "text": [
      "KNeighborsClassifier(algorithm='auto', leaf_size=30, metric='minkowski',\n",
      "           metric_params=None, n_jobs=None, n_neighbors=3, p=2,\n",
      "           weights='uniform')\n",
      "0.68\n"
     ]
    }
   ],
   "source": [
    "#K = 3\n",
    "#from sklearn.neighbors import KNeighborsClassifier\n",
    "k = 3   # number of nearest neighbors\n",
    "predictork3 = neighbors.KNeighborsClassifier(n_neighbors = k)\n",
    "predictork3.fit(X_train, y_train);\n",
    "print(predictork3)\n",
    "\n",
    "xk3 = X_test[:,:]\n",
    "#print(x8)\n",
    "# predict its label\n",
    "yhatk3 = predictork3.predict(xk3)\n",
    "# compare predicted and true labels\n",
    "#print(np.array(zip(yhat9,y_test[:])))\n",
    "accuracyk3 = predictork3.score(X_test,y_test)\n",
    "print(accuracyk3)"
   ]
  },
  {
   "cell_type": "code",
   "execution_count": 47,
   "metadata": {},
   "outputs": [
    {
     "name": "stdout",
     "output_type": "stream",
     "text": [
      "KNeighborsClassifier(algorithm='auto', leaf_size=30, metric='minkowski',\n",
      "           metric_params=None, n_jobs=None, n_neighbors=5, p=2,\n",
      "           weights='uniform')\n",
      "0.68\n"
     ]
    }
   ],
   "source": [
    "#K = 5\n",
    "#from sklearn.neighbors import KNeighborsClassifier\n",
    "k = 5   # number of nearest neighbors\n",
    "predictork5 = neighbors.KNeighborsClassifier(n_neighbors = k)\n",
    "predictork5.fit(X_train, y_train);\n",
    "print(predictork5)\n",
    "\n",
    "xk5 = X_test[:,:]\n",
    "#print(x8)\n",
    "# predict its label\n",
    "yhatk5 = predictork5.predict(xk5)\n",
    "# compare predicted and true labels\n",
    "#print(np.array(zip(yhat9,y_test[:])))\n",
    "accuracyk5 = predictork5.score(X_test,y_test)\n",
    "print(accuracyk5)"
   ]
  },
  {
   "cell_type": "code",
   "execution_count": 48,
   "metadata": {},
   "outputs": [
    {
     "name": "stdout",
     "output_type": "stream",
     "text": [
      "KNeighborsClassifier(algorithm='auto', leaf_size=30, metric='minkowski',\n",
      "           metric_params=None, n_jobs=None, n_neighbors=15, p=2,\n",
      "           weights='uniform')\n",
      "0.74\n"
     ]
    }
   ],
   "source": [
    "#K = 15\n",
    "#from sklearn.neighbors import KNeighborsClassifier\n",
    "k = 15   # number of nearest neighbors\n",
    "predictork15 = neighbors.KNeighborsClassifier(n_neighbors = k)\n",
    "predictork15.fit(X_train, y_train);\n",
    "print(predictork15)\n",
    "\n",
    "xk15 = X_test[:,:]\n",
    "#print(x8)\n",
    "# predict its label\n",
    "yhatk15 = predictork15.predict(xk15)\n",
    "# compare predicted and true labels\n",
    "#print(np.array(zip(yhat9,y_test[:])))\n",
    "accuracyk15 = predictork15.score(X_test,y_test)\n",
    "print(accuracyk15)"
   ]
  },
  {
   "cell_type": "code",
   "execution_count": 49,
   "metadata": {},
   "outputs": [
    {
     "name": "stdout",
     "output_type": "stream",
     "text": [
      "KNeighborsClassifier(algorithm='auto', leaf_size=30, metric='minkowski',\n",
      "           metric_params=None, n_jobs=None, n_neighbors=25, p=2,\n",
      "           weights='uniform')\n",
      "0.76\n"
     ]
    }
   ],
   "source": [
    "#K = 25\n",
    "#from sklearn.neighbors import KNeighborsClassifier\n",
    "k = 25   # number of nearest neighbors\n",
    "predictork25 = neighbors.KNeighborsClassifier(n_neighbors = k)\n",
    "predictork25.fit(X_train, y_train);\n",
    "print(predictork25)\n",
    "\n",
    "xk25 = X_test[:,:]\n",
    "#print(x8)\n",
    "# predict its label\n",
    "yhatk25 = predictork25.predict(xk25)\n",
    "# compare predicted and true labels\n",
    "#print(np.array(zip(yhat9,y_test[:])))\n",
    "accuracyk25 = predictork25.score(X_test,y_test)\n",
    "print(accuracyk25)"
   ]
  },
  {
   "cell_type": "code",
   "execution_count": 50,
   "metadata": {},
   "outputs": [
    {
     "name": "stdout",
     "output_type": "stream",
     "text": [
      "KNeighborsClassifier(algorithm='auto', leaf_size=30, metric='minkowski',\n",
      "           metric_params=None, n_jobs=None, n_neighbors=50, p=2,\n",
      "           weights='uniform')\n",
      "0.7\n"
     ]
    }
   ],
   "source": [
    "#K = 50\n",
    "#from sklearn.neighbors import KNeighborsClassifier\n",
    "k = 50   # number of nearest neighbors\n",
    "predictork50 = neighbors.KNeighborsClassifier(n_neighbors = k)\n",
    "predictork50.fit(X_train, y_train);\n",
    "print(predictork50)\n",
    "\n",
    "xk50 = X_test[:,:]\n",
    "#print(x8)\n",
    "# predict its label\n",
    "yhatk50 = predictork50.predict(xk50)\n",
    "# compare predicted and true labels\n",
    "#print(np.array(zip(yhat9,y_test[:])))\n",
    "accuracyk50 = predictork50.score(X_test,y_test)\n",
    "print(accuracyk50)"
   ]
  },
  {
   "cell_type": "markdown",
   "metadata": {},
   "source": [
    "<h3>\n",
    "    <strong>\n",
    "Which choice of 𝑘 resulted in the highest accuracy? Comment briefly if the results make sense to you.\n",
    "    </strong>\n",
    "    </h3>\n",
    "    <strong>\n",
    "    <br>\n",
    "    <p>\n",
    "        k = 25 resulted in the highest accuracy with .76 percent accuracy. The results make sense because in question 3 when k = 25 the breakdown of the classes seemed to be well defined. I tested and found that k = 30 was the best graphical breakdown then, so it makes sense it was the most accurate of the above options.\n",
    "    </p>\n",
    "    </strong>"
   ]
  },
  {
   "cell_type": "markdown",
   "metadata": {},
   "source": [
    "**Question 10**. Other than choice of $k$, `KNeighborsClassifier` allows you to make some other choices. For example, in *Question 3* you saw that you can use a weighted prediction. There are few other options. Study the documentation and summarize in few sentences what other options you have when training the kNN classifier."
   ]
  },
  {
   "cell_type": "markdown",
   "metadata": {},
   "source": [
    "<h3>\n",
    "    <strong>\n",
    "After reviewing the documentation I found that we are able to select the algorithm used by kNN (i.e. 'ball_tree', 'kd_tree', 'brute', 'auto'). 'auto' seems pretty cool will select the most appropriate algorithm based on the values passed to fit method. further I found we can choose leaf_size for 'ball_tree', 'kd_tree' algorithm. Finally, I discovered that if you use the 'Minkowski' metric then you'll be about to select a p for the Power parameter. \n",
    "    </strong>\n",
    "    </h3>"
   ]
  },
  {
   "cell_type": "markdown",
   "metadata": {},
   "source": [
    "## Lab 7.B Training kNN classifier on Iris and Newsgroups data\n",
    "In this part of the lab you will use your knowledge to train and test accuracy of kNN classifiers on Iris and Newsgroups data.\n",
    "\n",
    "#### Iris Questions\n",
    "In Lab 7.A you used only the first two attributes of Iris for prediction. You have 2 questions:\n",
    "\n",
    "**Question Iris 1**. Train kNN classifier on other pair of attributes. Use $k$ of your choice and feel free to keep other choices at their default values. Which pair of attributes results in the highest accuracy?\n",
    "\n",
    "**Question Iris 2**. Train kNN classifier using all 4 attributes. Report the accuracy on test data set. Play with parameters of kNN to try to find a combination that results in the highest accuracy. Can you find something that works better than $k=3$ and default choices?\n"
   ]
  },
  {
   "cell_type": "code",
   "execution_count": 4,
   "metadata": {},
   "outputs": [
    {
     "data": {
      "text/plain": [
       "KNeighborsClassifier(algorithm='auto', leaf_size=30, metric='minkowski',\n",
       "           metric_params=None, n_jobs=None, n_neighbors=5, p=2,\n",
       "           weights='uniform')"
      ]
     },
     "execution_count": 4,
     "metadata": {},
     "output_type": "execute_result"
    }
   ],
   "source": [
    "#Question Iris 1.\n",
    "k = 5   # how many nearest neighbors are consulted\n",
    "\n",
    "X = iris.data[:, [2,3]]  # we only take the last two features\n",
    "y = iris.target\n",
    "\n",
    "h = .02  # step size in the mesh\n",
    "\n",
    "# Create color maps\n",
    "cmap_light = ListedColormap(['#FFAAAA', '#AAFFAA', '#AAAAFF'])\n",
    "cmap_bold = ListedColormap(['#FF0000', '#00FF00', '#0000FF'])\n",
    "\n",
    "# we create an instance of Neighbours Classifier and fit the data.\n",
    "clf = neighbors.KNeighborsClassifier(k, weights='uniform')\n",
    "clf.fit(X, y)"
   ]
  },
  {
   "cell_type": "code",
   "execution_count": 52,
   "metadata": {},
   "outputs": [
    {
     "name": "stdout",
     "output_type": "stream",
     "text": [
      "0.38\n"
     ]
    }
   ],
   "source": [
    "xclf = X_test[:,:]\n",
    "#print(x8)\n",
    "# predict its label\n",
    "yhatclf = clf.predict(xclf)\n",
    "# compare predicted and true labels\n",
    "#print(np.array(zip(yhat9,y_test[:])))\n",
    "accuracyclf = clf.score(X_test,y_test)\n",
    "print(accuracyclf)"
   ]
  },
  {
   "cell_type": "code",
   "execution_count": 53,
   "metadata": {},
   "outputs": [
    {
     "data": {
      "text/plain": [
       "KNeighborsClassifier(algorithm='auto', leaf_size=30, metric='minkowski',\n",
       "           metric_params=None, n_jobs=None, n_neighbors=5, p=2,\n",
       "           weights='uniform')"
      ]
     },
     "execution_count": 53,
     "metadata": {},
     "output_type": "execute_result"
    }
   ],
   "source": [
    "#Question Iris 1.\n",
    "k = 5   # how many nearest neighbors are consulted\n",
    "\n",
    "X = iris.data[:, [0,1]]  # we only take the last two features. We could\n",
    "y = iris.target\n",
    "\n",
    "h = .02  # step size in the mesh\n",
    "\n",
    "# Create color maps\n",
    "cmap_light = ListedColormap(['#FFAAAA', '#AAFFAA', '#AAAAFF'])\n",
    "cmap_bold = ListedColormap(['#FF0000', '#00FF00', '#0000FF'])\n",
    "\n",
    "# we create an instance of Neighbours Classifier and fit the data.\n",
    "clf = neighbors.KNeighborsClassifier(k, weights='uniform')\n",
    "clf.fit(X, y)"
   ]
  },
  {
   "cell_type": "code",
   "execution_count": 54,
   "metadata": {},
   "outputs": [
    {
     "name": "stdout",
     "output_type": "stream",
     "text": [
      "0.74\n"
     ]
    }
   ],
   "source": [
    "xclf = X_test[:,:]\n",
    "#print(x8)\n",
    "# predict its label\n",
    "yhatclf = clf.predict(xclf)\n",
    "# compare predicted and true labels\n",
    "#print(np.array(zip(yhat9,y_test[:])))\n",
    "accuracyclf = clf.score(X_test,y_test)\n",
    "print(accuracyclf)"
   ]
  },
  {
   "cell_type": "markdown",
   "metadata": {},
   "source": [
    "<h3>\n",
    "    <strong>\n",
    "        Which pair of attributes results in the highest accuracy?\n",
    "        </strong>\n",
    "</h3>\n",
    "<p>\n",
    "    <strong>\n",
    "        I left two examples to show two different accuracy ratings with two different column pairs. I tried the other pairs available, i.e. [0,3], [1,2], but [0,1] seems like it gave the highest accuracy for the predictor with 0.74\n",
    "    </strong>\n",
    "</p>\n",
    "    "
   ]
  },
  {
   "cell_type": "markdown",
   "metadata": {},
   "source": [
    "**Question Iris 2:**"
   ]
  },
  {
   "cell_type": "code",
   "execution_count": 55,
   "metadata": {},
   "outputs": [
    {
     "name": "stdout",
     "output_type": "stream",
     "text": [
      "1.0\n"
     ]
    }
   ],
   "source": [
    "#Question Iris 2: Train kNN classifier using all 4 attributes. \n",
    "#Report the accuracy on test data set. Play with parameters of kNN to try to \n",
    "#find a combination that results in the highest accuracy. \n",
    "#Can you find something that works better than $k=3$ and default choices?\n",
    "k = 3   # how many nearest neighbors are consulted\n",
    "\n",
    "X = iris.data[:,:] #get whole iris dataset\n",
    "y = iris.target\n",
    "\n",
    "h = .02  # step size in the mesh\n",
    "\n",
    "# Create color maps\n",
    "cmap_light = ListedColormap(['#FFAAAA', '#AAFFAA', '#AAAAFF'])\n",
    "cmap_bold = ListedColormap(['#FF0000', '#00FF00', '#0000FF'])\n",
    "\n",
    "# we create an instance of Neighbours Classifier and fit the data.\n",
    "clf = neighbors.KNeighborsClassifier(k, weights='distance')\n",
    "clf.fit(X, y)\n",
    "\n",
    "# predict its label\n",
    "yhat = clf.predict(X)\n",
    "\n",
    "# compare predicted and true labels\n",
    "accuracy = clf.score(X,y)\n",
    "print(accuracy)\n"
   ]
  },
  {
   "cell_type": "markdown",
   "metadata": {},
   "source": [
    "<strong>\n",
    "    <h3>\n",
    "        Currently k=3 and weights='distance' returns a 100 percent accuracy rating so I believe I found something that works better than k=3 and default choices.\n",
    "    </h3>\n",
    "    </strong>"
   ]
  },
  {
   "cell_type": "markdown",
   "metadata": {},
   "source": [
    "\n",
    "#### Newsgroups Questions\n",
    "In Lab you already got experience working with the newsgroups data. \n",
    "\n",
    "**Question News 1**. Since kNN is a relatively slow algorithms, create your data set by picking 1,000 examples randomly. Remember to record both attribute values and labels. Split your data into 66% training and 33% test data sets.\n",
    "\n",
    "**Question News 2**. Train a kNN classifier ($k=3$ and defaults) on the training data and test its accuracy on test data. Record the computational time needed to run this. Report the accuracy (pay attention there are 4 types of documents).\n",
    "\n",
    "**Question News 3**. Train a kNN classifier using different values of $k$, hoping to improve accuracy. Try to use some other distance other than Euclidean. For example, cosine distance is know to work better than Eucliedean on text data.\n",
    "\n",
    "**Question Nesw 4**. Transform the original 100 attributes into 5 attributes using SVD. Train and test the kNN on the transformed data. Report the accuracies. You might be surprised to see that accuracy could go up. Discuss why this might be so.\n",
    "\n"
   ]
  },
  {
   "cell_type": "code",
   "execution_count": 66,
   "metadata": {},
   "outputs": [
    {
     "name": "stdout",
     "output_type": "stream",
     "text": [
      "[[0 0 0 ... 0 0 0]\n",
      " [0 0 0 ... 0 0 0]\n",
      " [0 0 0 ... 0 0 0]\n",
      " ...\n",
      " [0 0 0 ... 0 0 1]\n",
      " [0 0 0 ... 0 0 1]\n",
      " [0 0 0 ... 1 0 0]]\n",
      "\n",
      "[3 2 4 4 3 2 4 3 3 1 2 1 1 4 2 1 3 2 4 2 3 3 1 4 3 3 3 2 4 2 1 1 1 2 1 3 3\n",
      " 3 4 1 1 3 4 2 1 3 4 2 3 4 2 2 2 4 4 2 2 3 4 1 2 2 2 3 1 1 1 1 4 1 4 1 4 4\n",
      " 1 3 4 1 2 2 1 3 2 2 4 3 3 1 4 1 1 1 4 4 3 1 1 4 2 1 3 2 1 4 1 4 4 1 4 2 4\n",
      " 3 2 1 4 1 1 4 1 3 4 4 4 2 1 4 2 3 4 4 4 4 3 3 1 4 1 4 1 3 3 2 4 1 4 4 4 3\n",
      " 3 1 2 4 2 1 1 1 1 3 2 2 4 2 1 2 2 3 2 2 4 3 2 1 4 4 4 1 2 4 4 1 1 4 1 1 4\n",
      " 3 4 2 2 4 3 1 1 4 1 2 4 1 4 1 3 4 1 1 1 2 4 3 4 4 3 1 4 4 1 1 3 1 3 3 2 4\n",
      " 2 3 4 1 1 4 3 4 2 1 1 2 4 1 3 2 4 4 1 1 3 4 2 4 4 2 1 4 2 1 4 2 4 2 4 3 1\n",
      " 4 2 2 3 3 4 3 3 3 4 4 4 2 2 4 2 4 3 1 1 1 2 4 1 3 4 2 4 4 4 4 2 1 4 4 2 4\n",
      " 4 1 1 1 1 1 1 4 4 2 3 4 2 2 1 4 4 1 1 1 3 1 3 4 2 1 2 2 1 1 4 1 3 2 2 1 3\n",
      " 1 2 4 4 1 2 4 3 4 4 4 3 3 4 2 3 3 4 2 4 4 2 4 1 1 1 3 4 2 3 1 4 4 3 1 1 3\n",
      " 4 4 2 2 3 2 4 2 2 1 3 1 1 1 3 2 4 1 4 1 4 2 2 1 2 2 2 2 1 3 4 1 1 2 2 2 4\n",
      " 4 4 1 2 2 2 4 2 1 2 1 1 1 4 2 1 2 1 2 3 3 4 4 2 4 4 4 1 3 1 4 1 4 1 1 4 1\n",
      " 1 3 4 2 1 4 1 3 4 1 1 1 2 4 1 1 4 1 4 4 3 1 1 2 1 3 1 4 1 3 1 1 4 1 4 3 2\n",
      " 4 2 2 1 1 4 4 1 4 1 1 3 4 3 3 4 1 1 1 1 4 1 2 1 4 2 4 1 4 2 2 3 3 1 1 2 4\n",
      " 2 2 2 1 2 1 1 4 1 2 1 3 4 2 3 4 4 4 3 3 4 1 3 2 2 1 3 2 3 1 1 4 4 1 4 1 4\n",
      " 3 4 2 1 4 3 4 4 1 1 4 1 3 1 2 1 2 4 1 3 1 1 4 4 4 3 4 1 2 1 2 2 2 2 4 2 2\n",
      " 2 1 1 2 2 4 1 3 4 1 3 2 1 4 2 2 1 4 4 1 2 1 4 1 2 1 4 1 4 2 1 1 2 1 2 3 1\n",
      " 2 3 2 1 2 4 1 4 3 1 4 1 1 2 1 4 2 3 1 2 1 2 2 4 4 1 1 4 4 4 2 2 4 1 1 2 4\n",
      " 1 3 2 4 1 2 3 2 4 1 1 4 1 2 2 3 1 3 2 2 2 1 4 4 3 1 4 4 3 2 1 4 3 4 3 2 1\n",
      " 3 4 2 2 2 3 2 1 4 2 1 4 2 1 2 4 2 4 1 2 3 4 4 4 4 2 2 4 4 4 1 1 2 2 2 2 1\n",
      " 1 3 4 4 4 1 2 1 1 3 3 1 3 4 1 2 1 2 3 1 4 3 3 4 2 1 4 2 4 4 1 1 4 2 4 1 2\n",
      " 4 4 3 2 1 2 4 4 2 1 2 2 4 2 1 4 3 2 4 3 2 1 1 2 2 4 3 1 2 1 4 1 4 2 1 3 2\n",
      " 3 3 4 2 2 4 4 4 4 3 4 2 4 4 3 1 4 2 1 1 1 1 2 4 2 3 2 2 2 4 1 1 2 2 2 4 4\n",
      " 2 3 3 2 1 4 4 2 3 2 1 1 4 4 4 3 3 2 1 1 1 2 1 4 1 3 3 1 1 1 1 4 4 1 2 3 2\n",
      " 1 4 4 4 4 4 3 4 1 1 3 1 3 4 3 1 2 4 4 3 2 4 2 4 4 4 2 4 3 3 1 4 4 1 2 2 2\n",
      " 4 2 4 4 4 4 1 2 1 1 2 4 3 2 2 1 3 2 2 4 1 2 1 1 1 2 3 1 4 2 2 1 3 4 3 1 3\n",
      " 2 1 1 2 1 1 4 3 1 3 2 3 3 1 2 3 4 2 3 1 4 1 4 1 1 4 4 4 1 1 4 3 1 1 4 1 3\n",
      " 1]\n",
      "\n"
     ]
    }
   ],
   "source": [
    "#Question 1 Newsgroup:\n",
    "\n",
    "from random import sample\n",
    "%matplotlib inline\n",
    "\n",
    "documents = np.loadtxt('documents.csv', delimiter=\",\",dtype='int')\n",
    "groupnames = np.loadtxt('groupnames.csv', delimiter=\",\", dtype='str')\n",
    "newsgroup = np.loadtxt('newsgroup.csv', delimiter=\",\",dtype='int')\n",
    "\n",
    "documentsT = np.transpose(documents)\n",
    "\n",
    "row = np.array(sample(xrange(len(newsgroup)), 1000))\n",
    "\n",
    "Values = documentsT[row]\n",
    "print(Values)\n",
    "print\n",
    "Labels = newsgroup[row]\n",
    "print(Labels)\n",
    "print\n",
    "\n",
    "Xtrain, Xtest, Ytrain, Ytest = train_test_split(\n",
    "    Values, Labels, test_size=0.33)"
   ]
  },
  {
   "cell_type": "code",
   "execution_count": 67,
   "metadata": {},
   "outputs": [
    {
     "name": "stdout",
     "output_type": "stream",
     "text": [
      "Acc: 0.6454545454545455\n",
      "\n",
      "0.0329508781433\n"
     ]
    }
   ],
   "source": [
    "#Question 2 Newsgroup:\n",
    "\n",
    "import time\n",
    "#get start time\n",
    "start = time.time()\n",
    "\n",
    "predictor_NG = neighbors.KNeighborsClassifier(n_neighbors = 3)\n",
    "predictor_NG.fit(Xtrain, Ytrain);\n",
    "\n",
    "acc_NG_pred = predictor_NG.score(Xtest,Ytest)\n",
    "print \"Acc:\", acc_NG_pred\n",
    "\n",
    "#get end time\n",
    "end = time.time()\n",
    "\n",
    "print\n",
    "print(end-start)"
   ]
  },
  {
   "cell_type": "code",
   "execution_count": 80,
   "metadata": {},
   "outputs": [
    {
     "name": "stdout",
     "output_type": "stream",
     "text": [
      "Acc: 0.7696969696969697\n"
     ]
    }
   ],
   "source": [
    "#Question 3 Newsgroup\n",
    "\n",
    "predictor_NG = neighbors.KNeighborsClassifier(n_neighbors = 26,weights ='uniform', metric = 'cosine')\n",
    "predictor_NG.fit(Xtrain, Ytrain);\n",
    "\n",
    "acc_NG_pred = predictor_NG.score(Xtest,Ytest)\n",
    "print \"Acc:\",acc_NG_pred"
   ]
  },
  {
   "cell_type": "code",
   "execution_count": 82,
   "metadata": {},
   "outputs": [
    {
     "name": "stdout",
     "output_type": "stream",
     "text": [
      "(1000, 100) (100,) (100, 100)\n",
      "(1000, 5)\n"
     ]
    }
   ],
   "source": [
    "#Question 4 Newsgroup\n",
    "\n",
    "U,s,V = np.linalg.svd(Values, full_matrices=0)\n",
    "print U.shape, s.shape, V.shape\n",
    "\n",
    "Values5 = np.dot(U[:,0:5],np.diag(s)[0:5,0:5])\n",
    "print Values5.shape"
   ]
  },
  {
   "cell_type": "code",
   "execution_count": 84,
   "metadata": {},
   "outputs": [
    {
     "name": "stdout",
     "output_type": "stream",
     "text": [
      "Accuracy: 0.6636363636363637\n"
     ]
    }
   ],
   "source": [
    "Values5_train, Values5_test, Values5_Labels_train, Values5_Labels_test = train_test_split(\n",
    "    Values5, Labels, test_size=0.33)\n",
    "\n",
    "predictor_NGQ4 = neighbors.KNeighborsClassifier(n_neighbors =26,weights ='uniform', metric = 'cosine')\n",
    "predictor_NGQ4.fit(Values5_train, Values5_Labels_train);\n",
    "\n",
    "acc_NGQ4_pred = predictor_NGQ4.score(Values5_test, Values5_Labels_test)\n",
    "print \"Accuracy:\",acc_NGQ4_pred\n"
   ]
  },
  {
   "cell_type": "markdown",
   "metadata": {},
   "source": [
    "<strong>\n",
    "<h4>\n",
    "Report the accuracies. You might be surprised to see that accuracy could go up. \n",
    "Discuss why this might be so:\n",
    "    </h4>\n",
    "        <p>\n",
    "The accuracy of the predictor in question 4 newsgroup is lower than the accuracy of the predictor in question 3 newsgroup. I was pretty surprised by this because through SVD we should have reduced the \"noise\" in the data set thereby improving the accuracy. I believe this drop in accuracy took place because the predictor was overfit to the format of the dataset in question 3 newsgroup.  \n",
    "       </p>\n",
    "</strong>"
   ]
  }
 ],
 "metadata": {
  "anaconda-cloud": {},
  "kernelspec": {
   "display_name": "Python 2",
   "language": "python",
   "name": "python2"
  },
  "language_info": {
   "codemirror_mode": {
    "name": "ipython",
    "version": 2
   },
   "file_extension": ".py",
   "mimetype": "text/x-python",
   "name": "python",
   "nbconvert_exporter": "python",
   "pygments_lexer": "ipython2",
   "version": "2.7.15"
  }
 },
 "nbformat": 4,
 "nbformat_minor": 1
}
